{
 "cells": [
  {
   "cell_type": "code",
   "execution_count": 105,
   "metadata": {},
   "outputs": [],
   "source": [
    "from pyspark.sql import SparkSession, functions\n",
    "from pyspark.sql.functions import col, count, when, regexp_replace, round\n",
    "from pyspark.ml.feature import VectorAssembler\n",
    "from pyspark.ml.clustering import KMeans\n",
    "import folium\n",
    "import pandas as pd\n",
    "import matplotlib.pyplot as plt"
   ]
  },
  {
   "cell_type": "markdown",
   "metadata": {},
   "source": [
    "## Etude de cas"
   ]
  },
  {
   "cell_type": "code",
   "execution_count": null,
   "metadata": {},
   "outputs": [],
   "source": [
    "# Session Spark\n",
    "spark = SparkSession.builder.appName(\"SegmentationRisqueRoutier\").getOrCreate()"
   ]
  },
  {
   "cell_type": "code",
   "execution_count": 107,
   "metadata": {},
   "outputs": [],
   "source": [
    "caract = spark.read.format('csv').options(header='True', sep=';').load('Data/carcteristiques-2022.csv')\n",
    "lieux = spark.read.format('csv').options(header='True', sep=';').load('Data/lieux-2022.csv')"
   ]
  },
  {
   "cell_type": "code",
   "execution_count": 108,
   "metadata": {},
   "outputs": [
    {
     "name": "stdout",
     "output_type": "stream",
     "text": [
      "+------------+----+--------------------+---+---+----+---+----+----+---+---+----+------+-------+----+-----+----+---+\n",
      "|     Num_Acc|catr|                voie| v1| v2|circ|nbv|vosp|prof| pr|pr1|plan|lartpc|larrout|surf|infra|situ|vma|\n",
      "+------------+----+--------------------+---+---+----+---+----+----+---+---+----+------+-------+----+-----+----+---+\n",
      "|202200000001|   4|TEIL(vieille rout...|  0|N/A|   2|  2|   0|   1|(1)|(1)|   1|  NULL|     -1|   1|    0|   1| 50|\n",
      "+------------+----+--------------------+---+---+----+---+----+----+---+---+----+------+-------+----+-----+----+---+\n",
      "\n"
     ]
    }
   ],
   "source": [
    "lieux.limit(1).show()"
   ]
  },
  {
   "cell_type": "code",
   "execution_count": 109,
   "metadata": {},
   "outputs": [
    {
     "name": "stdout",
     "output_type": "stream",
     "text": [
      "+------------+----+----+----+-----+---+---+-----+---+---+---+---+--------------------+-------------+------------+\n",
      "| Accident_Id|jour|mois|  an| hrmn|lum|dep|  com|agg|int|atm|col|                 adr|          lat|        long|\n",
      "+------------+----+----+----+-----+---+---+-----+---+---+---+---+--------------------+-------------+------------+\n",
      "|202200000001|  19|  10|2022|16:15|  1| 26|26198|  2|  3|  1|  3|TEIL(vieille rout...|44,5594200000|4,7257200000|\n",
      "+------------+----+----+----+-----+---+---+-----+---+---+---+---+--------------------+-------------+------------+\n",
      "\n"
     ]
    }
   ],
   "source": [
    "caract.limit(1).show()"
   ]
  },
  {
   "cell_type": "code",
   "execution_count": null,
   "metadata": {},
   "outputs": [],
   "source": [
    "Accident_caract = caract.selectExpr(\n",
    "    \"`Accident_Id` AS `ID`\",\n",
    "    \"`dep` AS `Departement`\",\n",
    "    \"`com` AS `Code_Postal`\",\n",
    "    \"`lat` AS `GPS1`\",\n",
    "    \"`long` AS `GPS2`\",\n",
    "    \"`int` AS `Intersection`\",\n",
    "    \"`atm` AS `Metéologie`\",\n",
    "    \"`col` AS `type_colision`\"\n",
    ")\n",
    "\n",
    "Accident_lieu = lieux.selectExpr(\n",
    "    \"`Num_Acc` AS `ID`\",\n",
    "    \"`catr` AS `Type_Route`\",\n",
    "    \"`voie` AS `Voie`\",\n",
    "    \"`surf` AS `Etat_Surface`\"\n",
    ")"
   ]
  },
  {
   "cell_type": "code",
   "execution_count": null,
   "metadata": {},
   "outputs": [
    {
     "name": "stdout",
     "output_type": "stream",
     "text": [
      "+------------+-----------+-----------+-------------+--------------+------------+----------+-------------+\n",
      "|          ID|Departement|Code_Postal|         GPS1|          GPS2|Intersection|Metéologie|type_colision|\n",
      "+------------+-----------+-----------+-------------+--------------+------------+----------+-------------+\n",
      "|202200000001|         26|      26198|44,5594200000|  4,7257200000|           3|         1|            3|\n",
      "|202200000002|         25|      25204|46,9258100000|  6,3462000000|           3|         1|            3|\n",
      "|202200000003|         22|      22360|48,4931620000| -2,7604390000|           6|         1|            2|\n",
      "|202200000004|         16|      16102|45,6926520000| -0,3262900000|           3|         8|            6|\n",
      "|202200000005|         13|      13103|43,6755790366|  5,0927031775|           1|         1|            2|\n",
      "|202200000006|         13|      13056|43,4127500000|  5,0505900000|           2|         1|            3|\n",
      "|202200000007|         13|      13063|43,5822900000|  5,0034300000|           1|         1|            1|\n",
      "|202200000008|         12|      12145|44,1036000000|  3,0798400000|           2|         1|            3|\n",
      "|202200000009|         10|      10387|48,2717969874|  4,0788030624|           1|         8|            6|\n",
      "|202200000010|         10|      10387|48,3041200000|  4,0883300000|           9|         1|           -1|\n",
      "|202200000011|         09|      09122|42,9545900000|  1,6236600000|           1|         2|            6|\n",
      "|202200000012|         06|      06088|43,6694800000|  7,2140000000|           1|         1|            3|\n",
      "|202200000013|         03|      03095|46,1022300000|  3,5027800000|           1|         1|            6|\n",
      "|202200000014|         02|      02059|49,6536000000|  3,3476700000|           1|         1|            1|\n",
      "|202200000015|         75|      75119|48,9004080000|  2,3715030000|           7|         1|            2|\n",
      "|202200000016|         75|      75106|48,8479990000|  2,3301760000|           1|         1|            3|\n",
      "|202200000017|         75|      75105|48,8513870000|  2,3431860000|           2|         1|            3|\n",
      "|202200000018|         75|      75120|48,8686411244|  2,3895666003|           3|         9|            6|\n",
      "|202200000019|         75|      75116|48,8522770000|  2,2800410000|           1|         1|            3|\n",
      "|202200000020|         75|      75116|48,8645180000|  2,2698050000|           3|         1|            3|\n",
      "+------------+-----------+-----------+-------------+--------------+------------+----------+-------------+\n",
      "\n"
     ]
    }
   ],
   "source": [
    "Accident_caract.limit(20).show()\n"
   ]
  },
  {
   "cell_type": "code",
   "execution_count": 112,
   "metadata": {},
   "outputs": [
    {
     "name": "stdout",
     "output_type": "stream",
     "text": [
      "+------------+----------+--------------------+------------+\n",
      "|          ID|Type_Route|                Voie|Etat_Surface|\n",
      "+------------+----------+--------------------+------------+\n",
      "|202200000001|         4|TEIL(vieille rout...|           1|\n",
      "|202200000002|         4|                 N/A|           1|\n",
      "|202200000003|         3|ROND POINT DE BRE...|           1|\n",
      "|202200000004|         4|QUATORZE JUILLET ...|           1|\n",
      "|202200000005|         3|ROUTE DE JEAN MOU...|           1|\n",
      "|202200000006|         3|      TURCAN FRANCIS|           1|\n",
      "|202200000007|         4|         CARNOT  RUE|           1|\n",
      "|202200000008|         4|JAURES JEAN (AVENUE)|           1|\n",
      "|202200000009|         4|   LOMBARDS (AVENUE)|           2|\n",
      "|202200000010|         4|PREMIER MAI (RUE DU)|           1|\n",
      "|202200000011|         3|  ESPAGNE (ROUTE D')|           2|\n",
      "|202200000012|         4|    CASSIN (BD RENE)|           1|\n",
      "|202200000013|         3| GRIVATS (ROUTE DES)|           1|\n",
      "|202200000014|         4|          GRANDE RUE|           1|\n",
      "|202200000015|         4|    PLACE SKANDERBEG|           2|\n",
      "|202200000016|         4|    RUE DE VAUGIRARD|           1|\n",
      "|202200000017|         4|BOULEVARD SAINT G...|           1|\n",
      "|202200000018|         4| RUE DE MENILMONTANT|           2|\n",
      "|202200000019|         4|AVENUE DU PRESIDE...|           1|\n",
      "|202200000020|         4|    BOULEVARD LANNES|           2|\n",
      "+------------+----------+--------------------+------------+\n",
      "\n"
     ]
    }
   ],
   "source": [
    "Accident_lieu.limit(20).show()"
   ]
  },
  {
   "cell_type": "code",
   "execution_count": 113,
   "metadata": {},
   "outputs": [
    {
     "data": {
      "text/plain": [
       "55302"
      ]
     },
     "execution_count": 113,
     "metadata": {},
     "output_type": "execute_result"
    }
   ],
   "source": [
    "Accident_lieu.count()"
   ]
  },
  {
   "cell_type": "code",
   "execution_count": null,
   "metadata": {},
   "outputs": [],
   "source": [
    "# Jointure des df\n",
    "df_accident = Accident_caract.join(Accident_lieu, ['ID'], 'inner')"
   ]
  },
  {
   "cell_type": "code",
   "execution_count": 115,
   "metadata": {},
   "outputs": [
    {
     "name": "stdout",
     "output_type": "stream",
     "text": [
      "+---+-----------+-----------+----+----+------------+----------+-------------+----------+----+------------+\n",
      "| ID|Departement|Code_Postal|GPS1|GPS2|Intersection|Metéologie|type_colision|Type_Route|Voie|Etat_Surface|\n",
      "+---+-----------+-----------+----+----+------------+----------+-------------+----------+----+------------+\n",
      "|  0|          0|          0|   0|   0|           0|         0|            0|         0|   0|           0|\n",
      "+---+-----------+-----------+----+----+------------+----------+-------------+----------+----+------------+\n",
      "\n"
     ]
    }
   ],
   "source": [
    "# Vérification des valeurs manquantes\n",
    "df_accident.select([count(when(col(c).isNull(), c)).alias(c) for c in df_accident.columns]).show()"
   ]
  },
  {
   "cell_type": "code",
   "execution_count": null,
   "metadata": {},
   "outputs": [],
   "source": [
    "df_accident = df_accident.withColumn(\"GPS1\", regexp_replace(col(\"GPS1\"), \",\", \".\"))\n",
    "df_accident = df_accident.withColumn(\"GPS2\", regexp_replace(col(\"GPS2\"), \",\", \".\"))"
   ]
  },
  {
   "cell_type": "code",
   "execution_count": null,
   "metadata": {},
   "outputs": [],
   "source": [
    "df_accident = df_accident.withColumn(\"GPS1\", col(\"GPS1\").cast(\"double\"))\n",
    "df_accident = df_accident.withColumn(\"GPS2\", col(\"GPS2\").cast(\"double\"))"
   ]
  },
  {
   "cell_type": "code",
   "execution_count": null,
   "metadata": {},
   "outputs": [],
   "source": [
    "vector_assembler = VectorAssembler(inputCols=[\"GPS1\", \"GPS2\"], outputCol=\"features\")\n",
    "accidents_features_df = vector_assembler.transform(df_accident)"
   ]
  },
  {
   "cell_type": "code",
   "execution_count": 119,
   "metadata": {},
   "outputs": [],
   "source": [
    "kmeans = KMeans(k=20, seed=123, featuresCol=\"features\", predictionCol=\"cluster\")\n",
    "model = kmeans.fit(accidents_features_df)\n",
    "clustered_accidents = model.transform(accidents_features_df)"
   ]
  },
  {
   "cell_type": "code",
   "execution_count": 120,
   "metadata": {},
   "outputs": [],
   "source": [
    "accident_clusters_count = clustered_accidents.groupBy(\"cluster\").agg(functions.count(\"*\").alias(\"accident_count\"))"
   ]
  },
  {
   "cell_type": "code",
   "execution_count": 121,
   "metadata": {},
   "outputs": [],
   "source": [
    "total_accidents = accident_clusters_count.agg(functions.sum(\"accident_count\").alias(\"total\")).collect()[0][\"total\"]"
   ]
  },
  {
   "cell_type": "code",
   "execution_count": 122,
   "metadata": {},
   "outputs": [],
   "source": [
    "accident_clusters_count_with_pct = accident_clusters_count.withColumn(\n",
    "    \"accident_pct\",\n",
    "    round((col(\"accident_count\") / total_accidents) * 100, 2)\n",
    ")"
   ]
  },
  {
   "cell_type": "code",
   "execution_count": 123,
   "metadata": {},
   "outputs": [
    {
     "name": "stdout",
     "output_type": "stream",
     "text": [
      "+-------+--------------+------------+\n",
      "|cluster|accident_count|accident_pct|\n",
      "+-------+--------------+------------+\n",
      "|      9|         18699|       33.81|\n",
      "|     15|          6683|       12.08|\n",
      "|      6|          3827|        6.92|\n",
      "|     17|          3520|        6.37|\n",
      "|     11|          3334|        6.03|\n",
      "|     13|          2950|        5.33|\n",
      "|     14|          2721|        4.92|\n",
      "|      0|          2648|        4.79|\n",
      "|      7|          2138|        3.87|\n",
      "|     19|          1844|        3.33|\n",
      "|     18|          1711|        3.09|\n",
      "|      8|          1697|        3.07|\n",
      "|      2|           981|        1.77|\n",
      "|     10|           748|        1.35|\n",
      "|     16|           608|         1.1|\n",
      "|      5|           558|        1.01|\n",
      "|      4|           255|        0.46|\n",
      "|      3|           192|        0.35|\n",
      "|      1|           174|        0.31|\n",
      "|     12|            14|        0.03|\n",
      "+-------+--------------+------------+\n",
      "\n"
     ]
    }
   ],
   "source": [
    "accident_clusters_count_with_pct.orderBy(functions.desc(\"accident_count\")).show()"
   ]
  },
  {
   "cell_type": "code",
   "execution_count": 124,
   "metadata": {},
   "outputs": [],
   "source": [
    "# Calculer le centroïde pour chaque cluster\n",
    "cluster_centroids = clustered_accidents.groupBy(\"cluster\").agg(\n",
    "    functions.avg(\"GPS1\").alias(\"avg_latitude\"),\n",
    "    functions.avg(\"GPS2\").alias(\"avg_longitude\"),\n",
    "    functions.count(\"*\").alias(\"accident_count\")\n",
    ")"
   ]
  },
  {
   "cell_type": "code",
   "execution_count": 125,
   "metadata": {},
   "outputs": [],
   "source": [
    "cluster_centroids_pd = cluster_centroids.toPandas()"
   ]
  },
  {
   "cell_type": "code",
   "execution_count": 126,
   "metadata": {},
   "outputs": [],
   "source": [
    "m = folium.Map(location=[46.603354, 1.888334], zoom_start=6)"
   ]
  },
  {
   "cell_type": "code",
   "execution_count": null,
   "metadata": {},
   "outputs": [],
   "source": [
    "# Ajouter des marqueurs pour chaque cluster\n",
    "for i, row in cluster_centroids_pd.iterrows():\n",
    "    accident_count = float(row['accident_count'])\n",
    "    \n",
    "    if accident_count / 1000 < 5:\n",
    "        radius = 5 \n",
    "    else:\n",
    "        radius = accident_count / 1000\n",
    "    \n",
    "    folium.CircleMarker(\n",
    "        location=[row['avg_latitude'], row['avg_longitude']],\n",
    "        radius=radius,\n",
    "        popup=f\"Cluster: {row['cluster']}<br>Accidents: {accident_count}\",\n",
    "        color=\"blue\",\n",
    "        fill=True,\n",
    "        fill_color=\"blue\"\n",
    "    ).add_to(m)\n",
    "\n",
    "# Sauvegarde\n",
    "m.save(\"Result/accident_clusters_map.html\")"
   ]
  },
  {
   "cell_type": "code",
   "execution_count": 128,
   "metadata": {},
   "outputs": [],
   "source": [
    "cluster_centroids_pd = cluster_centroids_pd.sort_values(by=\"accident_count\", ascending=False)"
   ]
  },
  {
   "cell_type": "code",
   "execution_count": 129,
   "metadata": {},
   "outputs": [],
   "source": [
    "nombre_total_clusters = cluster_centroids_pd.shape[0]\n",
    "seuil_niveau_1 = nombre_total_clusters // 3\n",
    "seuil_niveau_2 = 2 * nombre_total_clusters // 3"
   ]
  },
  {
   "cell_type": "code",
   "execution_count": null,
   "metadata": {},
   "outputs": [],
   "source": [
    "def assigner_tier_list(index):\n",
    "    if index < seuil_niveau_1:\n",
    "        return \"Tier 1 (Moins dangereux)\"\n",
    "    elif index < seuil_niveau_2:\n",
    "        return \"Tier 2 (Danger moyen)\"\n",
    "    else:\n",
    "        return \"Tier 3 (Plus dangereux)\""
   ]
  },
  {
   "cell_type": "code",
   "execution_count": 131,
   "metadata": {},
   "outputs": [],
   "source": [
    "cluster_centroids_pd[\"tier\"] = cluster_centroids_pd.index.to_series().apply(assigner_tier_list)"
   ]
  },
  {
   "cell_type": "code",
   "execution_count": 132,
   "metadata": {},
   "outputs": [
    {
     "name": "stdout",
     "output_type": "stream",
     "text": [
      "    cluster  accident_count                      tier\n",
      "9         9           18699     Tier 2 (Danger moyen)\n",
      "8        15            6683     Tier 2 (Danger moyen)\n",
      "3         6            3827  Tier 1 (Moins dangereux)\n",
      "10       17            3520     Tier 2 (Danger moyen)\n",
      "15       11            3334   Tier 3 (Plus dangereux)\n",
      "2        13            2950  Tier 1 (Moins dangereux)\n",
      "16       14            2721   Tier 3 (Plus dangereux)\n",
      "18        0            2648   Tier 3 (Plus dangereux)\n",
      "13        7            2138   Tier 3 (Plus dangereux)\n",
      "7        19            1844     Tier 2 (Danger moyen)\n",
      "19       18            1711   Tier 3 (Plus dangereux)\n",
      "12        8            1697     Tier 2 (Danger moyen)\n",
      "17        2             981   Tier 3 (Plus dangereux)\n",
      "14       10             748   Tier 3 (Plus dangereux)\n",
      "4        16             608  Tier 1 (Moins dangereux)\n",
      "6         5             558     Tier 2 (Danger moyen)\n",
      "11        4             255     Tier 2 (Danger moyen)\n",
      "5         3             192  Tier 1 (Moins dangereux)\n",
      "1         1             174  Tier 1 (Moins dangereux)\n",
      "0        12              14  Tier 1 (Moins dangereux)\n"
     ]
    }
   ],
   "source": [
    "print(cluster_centroids_pd[[\"cluster\", \"accident_count\", \"tier\"]])"
   ]
  },
  {
   "cell_type": "code",
   "execution_count": 133,
   "metadata": {},
   "outputs": [],
   "source": [
    "cluster_centroids_pd.to_csv(\"Result/accident_clusters_tier_list.csv\", index=False)"
   ]
  },
  {
   "cell_type": "markdown",
   "metadata": {},
   "source": [
    "On peut voir que la majorité des accidents se situent dans la région parisienne et dans la plupart des grandes villes. On peut analyser ces accidents pour en soutirer des causes."
   ]
  },
  {
   "cell_type": "markdown",
   "metadata": {},
   "source": [
    "## Analyse"
   ]
  },
  {
   "cell_type": "code",
   "execution_count": 134,
   "metadata": {},
   "outputs": [],
   "source": [
    "# Agréger le nombre d’accidents par type de route\n",
    "accidents_par_route = df_accident.groupBy(\"Type_Route\").agg(functions.count(\"*\").alias(\"Nombre_Accidents\"))\n",
    "accidents_par_atm = df_accident.groupBy(\"Metéologie\").agg(functions.count(\"*\").alias(\"Nombre_Accidents\"))\n",
    "accidents_par_surface = df_accident.groupBy(\"Etat_Surface\").agg(functions.count(\"*\").alias(\"Nombre_Accidents\"))\n"
   ]
  },
  {
   "cell_type": "code",
   "execution_count": 135,
   "metadata": {},
   "outputs": [],
   "source": [
    "accidents_par_route_pd = accidents_par_route.toPandas()\n",
    "accidents_par_atm_pd = accidents_par_atm.toPandas()\n",
    "accidents_par_surface_pd = accidents_par_surface.toPandas()\n"
   ]
  },
  {
   "cell_type": "code",
   "execution_count": 136,
   "metadata": {},
   "outputs": [],
   "source": [
    "route_labels = {\n",
    "    \"1\": \"Autoroute\",\n",
    "    \"2\": \"Route Nationale\",\n",
    "    \"3\": \"Route Départementale\",\n",
    "    \"4\": \"Voie Communale\",\n",
    "    \"5\": \"Hors Réseau Public\",\n",
    "    \"6\": \"Parc de stationnement\",\n",
    "    \"7\": \"Routes de métropole\",\n",
    "    \"9\": \"Autres\"\n",
    "}"
   ]
  },
  {
   "cell_type": "code",
   "execution_count": 137,
   "metadata": {},
   "outputs": [],
   "source": [
    "accidents_par_route_pd[\"Type_Route\"] = accidents_par_route_pd[\"Type_Route\"].map(route_labels)"
   ]
  },
  {
   "cell_type": "code",
   "execution_count": 138,
   "metadata": {},
   "outputs": [],
   "source": [
    "accidents_par_route_pd = accidents_par_route_pd.sort_values(by=\"Nombre_Accidents\", ascending=False)"
   ]
  },
  {
   "cell_type": "code",
   "execution_count": 139,
   "metadata": {},
   "outputs": [],
   "source": [
    "mapping_expr = functions.create_map(\n",
    "    [functions.lit(x) for x in sum(route_labels.items(), ())]\n",
    ")\n",
    "\n",
    "accidents_par_route_named = accidents_par_route.withColumn(\n",
    "    \"Type_Route_Nom\",\n",
    "    mapping_expr[col(\"Type_Route\")]\n",
    ")"
   ]
  },
  {
   "cell_type": "code",
   "execution_count": 140,
   "metadata": {},
   "outputs": [],
   "source": [
    "total_accidents = accidents_par_route_named.agg(functions.sum(\"Nombre_Accidents\").alias(\"total\")).collect()[0][\"total\"]\n",
    "\n",
    "accidents_par_route_with_pct = accidents_par_route_named.withColumn(\n",
    "    \"Pourcentage\",\n",
    "    round((col(\"Nombre_Accidents\") / total_accidents) * 100, 2)\n",
    ")"
   ]
  },
  {
   "cell_type": "code",
   "execution_count": 141,
   "metadata": {},
   "outputs": [
    {
     "name": "stdout",
     "output_type": "stream",
     "text": [
      "+----------+--------------------+----------------+-----------+\n",
      "|Type_Route|      Type_Route_Nom|Nombre_Accidents|Pourcentage|\n",
      "+----------+--------------------+----------------+-----------+\n",
      "|         4|      Voie Communale|           22671|      40.99|\n",
      "|         3|Route Départementale|           21162|      38.27|\n",
      "|         1|           Autoroute|            5083|       9.19|\n",
      "|         2|     Route Nationale|            3584|       6.48|\n",
      "|         7| Routes de métropole|            2090|       3.78|\n",
      "|         6|Parc de stationne...|             394|       0.71|\n",
      "|         9|              Autres|             262|       0.47|\n",
      "|         5|  Hors Réseau Public|              56|        0.1|\n",
      "+----------+--------------------+----------------+-----------+\n",
      "\n"
     ]
    }
   ],
   "source": [
    "accidents_par_route_with_pct.orderBy(functions.desc(\"Pourcentage\")).select(\n",
    "    \"Type_Route\", \"Type_Route_Nom\", \"Nombre_Accidents\", \"Pourcentage\"\n",
    ").show()"
   ]
  },
  {
   "cell_type": "code",
   "execution_count": 142,
   "metadata": {},
   "outputs": [
    {
     "data": {
      "image/png": "[encoded data removed]",
      "text/plain": [
       "<Figure size 1000x600 with 1 Axes>"
      ]
     },
     "metadata": {},
     "output_type": "display_data"
    }
   ],
   "source": [
    "plt.figure(figsize=(10, 6))\n",
    "plt.barh(accidents_par_route_pd[\"Type_Route\"], accidents_par_route_pd[\"Nombre_Accidents\"])\n",
    "plt.xlabel(\"Nombre d'Accidents\")\n",
    "plt.ylabel(\"Type de Route\")\n",
    "plt.title(\"Nombre d'Accidents selon le type de route\")\n",
    "plt.gca().invert_yaxis()\n",
    "plt.show()"
   ]
  },
  {
   "cell_type": "markdown",
   "metadata": {},
   "source": [
    "Les voies communales et départementales sont moins sécurisées. L’autoroute et les nationales, malgré des vitesses élevées, ce qui paraît toutefois normal."
   ]
  },
  {
   "cell_type": "code",
   "execution_count": 143,
   "metadata": {},
   "outputs": [],
   "source": [
    "atm_labels = {\n",
    "    \"1\": \"Normale\",\n",
    "    \"2\": \"Pluie légère\",\n",
    "    \"3\": \"Pluie forte\",\n",
    "    \"4\": \"Neige - grêle\",\n",
    "    \"5\": \"Brouillard - fumée\",\n",
    "    \"6\": \"Vent fort - tempête\",\n",
    "    \"7\": \"Temps éblouissant\",\n",
    "    \"8\": \"Temps couvert\",\n",
    "    \"9\": \"Autre\"\n",
    "}\n",
    "\n",
    "surf_labels = {\n",
    "    \"1\": \"Normale\",\n",
    "    \"2\": \"Mouillée\",\n",
    "    \"3\": \"Flaques\",\n",
    "    \"4\": \"Inondée\",\n",
    "    \"5\": \"Enneigée\",\n",
    "    \"6\": \"Boue\",\n",
    "    \"7\": \"Verglacée\",\n",
    "    \"8\": \"Corps gras – huile\",\n",
    "    \"9\": \"Autre\"\n",
    "}"
   ]
  },
  {
   "cell_type": "code",
   "execution_count": 144,
   "metadata": {},
   "outputs": [],
   "source": [
    "# accidents_par_atm_pd[\"Metéologie\"] = accidents_par_atm_pd[\"Metéologie\"].astype(str)\n",
    "# accidents_par_surface_pd[\"Etat_Surface\"] = accidents_par_surface_pd[\"Etat_Surface\"].astype(str)\n"
   ]
  },
  {
   "cell_type": "code",
   "execution_count": 145,
   "metadata": {},
   "outputs": [],
   "source": [
    "accidents_par_atm_pd[\"Conditions atmosphériques\"] = accidents_par_atm_pd[\"Metéologie\"].map(atm_labels)\n",
    "accidents_par_surface_pd[\"Etat de la surface\"] = accidents_par_surface_pd[\"Etat_Surface\"].map(surf_labels)"
   ]
  },
  {
   "cell_type": "code",
   "execution_count": 146,
   "metadata": {},
   "outputs": [
    {
     "data": {
      "text/plain": [
       "Metéologie                   object\n",
       "Nombre_Accidents              int64\n",
       "Conditions atmosphériques    object\n",
       "dtype: object"
      ]
     },
     "execution_count": 146,
     "metadata": {},
     "output_type": "execute_result"
    }
   ],
   "source": [
    "accidents_par_atm_pd.dtypes"
   ]
  },
  {
   "cell_type": "code",
   "execution_count": 147,
   "metadata": {},
   "outputs": [
    {
     "data": {
      "text/plain": [
       "Etat_Surface          object\n",
       "Nombre_Accidents       int64\n",
       "Etat de la surface    object\n",
       "dtype: object"
      ]
     },
     "execution_count": 147,
     "metadata": {},
     "output_type": "execute_result"
    }
   ],
   "source": [
    "accidents_par_surface_pd.dtypes"
   ]
  },
  {
   "cell_type": "code",
   "execution_count": 148,
   "metadata": {},
   "outputs": [],
   "source": [
    "accidents_par_atm_pd[\"Conditions atmosphériques\"] = accidents_par_atm_pd[\"Conditions atmosphériques\"].astype(str)\n",
    "accidents_par_surface_pd[\"Etat de la surface\"] = accidents_par_surface_pd[\"Etat de la surface\"].astype(str)\n"
   ]
  },
  {
   "cell_type": "code",
   "execution_count": null,
   "metadata": {},
   "outputs": [],
   "source": [
    "# Trier par du plus au moins accidentogènes\n",
    "accidents_par_atm_pd = accidents_par_atm_pd.sort_values(by=\"Nombre_Accidents\", ascending=False)\n",
    "accidents_par_surface_pd = accidents_par_surface_pd.sort_values(by=\"Nombre_Accidents\", ascending=False)"
   ]
  },
  {
   "cell_type": "code",
   "execution_count": 150,
   "metadata": {},
   "outputs": [
    {
     "data": {
      "text/html": [
       "<div>\n",
       "<style scoped>\n",
       "    .dataframe tbody tr th:only-of-type {\n",
       "        vertical-align: middle;\n",
       "    }\n",
       "\n",
       "    .dataframe tbody tr th {\n",
       "        vertical-align: top;\n",
       "    }\n",
       "\n",
       "    .dataframe thead th {\n",
       "        text-align: right;\n",
       "    }\n",
       "</style>\n",
       "<table border=\"1\" class=\"dataframe\">\n",
       "  <thead>\n",
       "    <tr style=\"text-align: right;\">\n",
       "      <th></th>\n",
       "      <th>Metéologie</th>\n",
       "      <th>Nombre_Accidents</th>\n",
       "      <th>Conditions atmosphériques</th>\n",
       "    </tr>\n",
       "  </thead>\n",
       "  <tbody>\n",
       "    <tr>\n",
       "      <th>6</th>\n",
       "      <td>1</td>\n",
       "      <td>45269</td>\n",
       "      <td>Normale</td>\n",
       "    </tr>\n",
       "    <tr>\n",
       "      <th>9</th>\n",
       "      <td>2</td>\n",
       "      <td>4934</td>\n",
       "      <td>Pluie légère</td>\n",
       "    </tr>\n",
       "    <tr>\n",
       "      <th>2</th>\n",
       "      <td>8</td>\n",
       "      <td>1927</td>\n",
       "      <td>Temps couvert</td>\n",
       "    </tr>\n",
       "    <tr>\n",
       "      <th>0</th>\n",
       "      <td>7</td>\n",
       "      <td>1143</td>\n",
       "      <td>Temps éblouissant</td>\n",
       "    </tr>\n",
       "    <tr>\n",
       "      <th>1</th>\n",
       "      <td>3</td>\n",
       "      <td>981</td>\n",
       "      <td>Pluie forte</td>\n",
       "    </tr>\n",
       "    <tr>\n",
       "      <th>3</th>\n",
       "      <td>5</td>\n",
       "      <td>531</td>\n",
       "      <td>Brouillard - fumée</td>\n",
       "    </tr>\n",
       "    <tr>\n",
       "      <th>5</th>\n",
       "      <td>9</td>\n",
       "      <td>263</td>\n",
       "      <td>Autre</td>\n",
       "    </tr>\n",
       "    <tr>\n",
       "      <th>8</th>\n",
       "      <td>4</td>\n",
       "      <td>130</td>\n",
       "      <td>Neige - grêle</td>\n",
       "    </tr>\n",
       "    <tr>\n",
       "      <th>4</th>\n",
       "      <td>6</td>\n",
       "      <td>123</td>\n",
       "      <td>Vent fort - tempête</td>\n",
       "    </tr>\n",
       "    <tr>\n",
       "      <th>7</th>\n",
       "      <td>-1</td>\n",
       "      <td>1</td>\n",
       "      <td>nan</td>\n",
       "    </tr>\n",
       "  </tbody>\n",
       "</table>\n",
       "</div>"
      ],
      "text/plain": [
       "  Metéologie  Nombre_Accidents Conditions atmosphériques\n",
       "6          1             45269                   Normale\n",
       "9          2              4934              Pluie légère\n",
       "2          8              1927             Temps couvert\n",
       "0          7              1143         Temps éblouissant\n",
       "1          3               981               Pluie forte\n",
       "3          5               531        Brouillard - fumée\n",
       "5          9               263                     Autre\n",
       "8          4               130             Neige - grêle\n",
       "4          6               123       Vent fort - tempête\n",
       "7         -1                 1                       nan"
      ]
     },
     "execution_count": 150,
     "metadata": {},
     "output_type": "execute_result"
    }
   ],
   "source": [
    "accidents_par_atm_pd"
   ]
  },
  {
   "cell_type": "code",
   "execution_count": 151,
   "metadata": {},
   "outputs": [
    {
     "data": {
      "text/html": [
       "<div>\n",
       "<style scoped>\n",
       "    .dataframe tbody tr th:only-of-type {\n",
       "        vertical-align: middle;\n",
       "    }\n",
       "\n",
       "    .dataframe tbody tr th {\n",
       "        vertical-align: top;\n",
       "    }\n",
       "\n",
       "    .dataframe thead th {\n",
       "        text-align: right;\n",
       "    }\n",
       "</style>\n",
       "<table border=\"1\" class=\"dataframe\">\n",
       "  <thead>\n",
       "    <tr style=\"text-align: right;\">\n",
       "      <th></th>\n",
       "      <th>Etat_Surface</th>\n",
       "      <th>Nombre_Accidents</th>\n",
       "      <th>Etat de la surface</th>\n",
       "    </tr>\n",
       "  </thead>\n",
       "  <tbody>\n",
       "    <tr>\n",
       "      <th>7</th>\n",
       "      <td>1</td>\n",
       "      <td>46025</td>\n",
       "      <td>Normale</td>\n",
       "    </tr>\n",
       "    <tr>\n",
       "      <th>10</th>\n",
       "      <td>2</td>\n",
       "      <td>8429</td>\n",
       "      <td>Mouillée</td>\n",
       "    </tr>\n",
       "    <tr>\n",
       "      <th>6</th>\n",
       "      <td>9</td>\n",
       "      <td>331</td>\n",
       "      <td>Autre</td>\n",
       "    </tr>\n",
       "    <tr>\n",
       "      <th>0</th>\n",
       "      <td>7</td>\n",
       "      <td>218</td>\n",
       "      <td>Verglacée</td>\n",
       "    </tr>\n",
       "    <tr>\n",
       "      <th>1</th>\n",
       "      <td>3</td>\n",
       "      <td>88</td>\n",
       "      <td>Flaques</td>\n",
       "    </tr>\n",
       "    <tr>\n",
       "      <th>2</th>\n",
       "      <td>8</td>\n",
       "      <td>87</td>\n",
       "      <td>Corps gras – huile</td>\n",
       "    </tr>\n",
       "    <tr>\n",
       "      <th>4</th>\n",
       "      <td>5</td>\n",
       "      <td>51</td>\n",
       "      <td>Enneigée</td>\n",
       "    </tr>\n",
       "    <tr>\n",
       "      <th>5</th>\n",
       "      <td>6</td>\n",
       "      <td>37</td>\n",
       "      <td>Boue</td>\n",
       "    </tr>\n",
       "    <tr>\n",
       "      <th>9</th>\n",
       "      <td>4</td>\n",
       "      <td>26</td>\n",
       "      <td>Inondée</td>\n",
       "    </tr>\n",
       "    <tr>\n",
       "      <th>8</th>\n",
       "      <td>-1</td>\n",
       "      <td>9</td>\n",
       "      <td>nan</td>\n",
       "    </tr>\n",
       "    <tr>\n",
       "      <th>3</th>\n",
       "      <td>0</td>\n",
       "      <td>1</td>\n",
       "      <td>nan</td>\n",
       "    </tr>\n",
       "  </tbody>\n",
       "</table>\n",
       "</div>"
      ],
      "text/plain": [
       "   Etat_Surface  Nombre_Accidents  Etat de la surface\n",
       "7             1             46025             Normale\n",
       "10            2              8429            Mouillée\n",
       "6             9               331               Autre\n",
       "0             7               218           Verglacée\n",
       "1             3                88             Flaques\n",
       "2             8                87  Corps gras – huile\n",
       "4             5                51            Enneigée\n",
       "5             6                37                Boue\n",
       "9             4                26             Inondée\n",
       "8            -1                 9                 nan\n",
       "3             0                 1                 nan"
      ]
     },
     "execution_count": 151,
     "metadata": {},
     "output_type": "execute_result"
    }
   ],
   "source": [
    "accidents_par_surface_pd"
   ]
  },
  {
   "cell_type": "code",
   "execution_count": 152,
   "metadata": {},
   "outputs": [
    {
     "data": {
      "image/png": "[encoded data removed]",
      "text/plain": [
       "<Figure size 1000x600 with 1 Axes>"
      ]
     },
     "metadata": {},
     "output_type": "display_data"
    }
   ],
   "source": [
    "plt.figure(figsize=(10, 6))\n",
    "plt.barh(accidents_par_atm_pd[\"Conditions atmosphériques\"], accidents_par_atm_pd[\"Nombre_Accidents\"])\n",
    "plt.xlabel(\"Nombre d'Accidents\")\n",
    "plt.ylabel(\"Conditions Atmosphériques\")\n",
    "plt.title(\"Nombre d'Accidents par Conditions Atmosphériques\")\n",
    "plt.gca().invert_yaxis()\n",
    "plt.show()"
   ]
  },
  {
   "cell_type": "code",
   "execution_count": 153,
   "metadata": {},
   "outputs": [
    {
     "data": {
      "image/png": "[encoded data removed]",
      "text/plain": [
       "<Figure size 1000x600 with 1 Axes>"
      ]
     },
     "metadata": {},
     "output_type": "display_data"
    }
   ],
   "source": [
    "# 📊 Visualisation\n",
    "plt.figure(figsize=(10, 6))\n",
    "plt.barh(accidents_par_surface_pd[\"Etat de la surface\"], accidents_par_surface_pd[\"Nombre_Accidents\"])\n",
    "plt.xlabel(\"Nombre d'Accidents\")\n",
    "plt.ylabel(\"Conditions Atmosphériques\")\n",
    "plt.title(\"Accidents selon les conditions de la route\")\n",
    "plt.gca().invert_yaxis()\n",
    "plt.show()"
   ]
  },
  {
   "cell_type": "markdown",
   "metadata": {},
   "source": [
    "Regardons pour terminer quel type de colisions qu'on retrouve le plus souvent"
   ]
  },
  {
   "cell_type": "code",
   "execution_count": 154,
   "metadata": {},
   "outputs": [],
   "source": [
    "accidents_par_collision = df_accident.groupBy(\"type_colision\").agg(functions.count(\"*\").alias(\"Nombre_Accidents\"))\n",
    "\n",
    "accidents_par_collision_pd = accidents_par_collision.toPandas()\n",
    "\n",
    "collision_labels = {\n",
    "    \"-1\": \"Non renseigné\",\n",
    "    \"1\": \"Deux véhicules - frontale\",\n",
    "    \"2\": \"Deux véhicules – par l’arrière\",\n",
    "    \"3\": \"Deux véhicules – par le côté\",\n",
    "    \"4\": \"Trois véhicules et plus – en chaîne\",\n",
    "    \"5\": \"Trois véhicules et plus - collisions multiples\",\n",
    "    \"6\": \"Autre collision\",\n",
    "    \"7\": \"Sans collision\"\n",
    "}\n",
    "\n",
    "accidents_par_collision_pd[\"type_colision\"] = accidents_par_collision_pd[\"type_colision\"].map(collision_labels)"
   ]
  },
  {
   "cell_type": "code",
   "execution_count": 155,
   "metadata": {},
   "outputs": [],
   "source": [
    "accidents_par_collision_pd[\"type_colision\"] = accidents_par_collision_pd[\"type_colision\"].astype(str)\n",
    "\n",
    "accidents_par_collision_pd = accidents_par_collision_pd.sort_values(by=\"Nombre_Accidents\", ascending=False)"
   ]
  },
  {
   "cell_type": "code",
   "execution_count": 156,
   "metadata": {},
   "outputs": [
    {
     "data": {
      "image/png": "[encoded data removed]",
      "text/plain": [
       "<Figure size 1000x600 with 1 Axes>"
      ]
     },
     "metadata": {},
     "output_type": "display_data"
    }
   ],
   "source": [
    "plt.figure(figsize=(10, 6))\n",
    "plt.barh(accidents_par_collision_pd[\"type_colision\"], accidents_par_collision_pd[\"Nombre_Accidents\"])\n",
    "plt.xlabel(\"Nombre d'Accidents\")\n",
    "plt.ylabel(\"Type de colission\")\n",
    "plt.title(\"Type de colision lors des accidents\")\n",
    "plt.gca().invert_yaxis()\n",
    "plt.show()"
   ]
  },
  {
   "cell_type": "markdown",
   "metadata": {},
   "source": [
    "## Conclusion"
   ]
  },
  {
   "cell_type": "markdown",
   "metadata": {},
   "source": [
    "Une route communale est la plus accidentogène, car l'excès de confiance et le manque d’anticipation semblent être les principales causes des accidents en conditions normales."
   ]
  }
 ],
 "metadata": {
  "kernelspec": {
   "display_name": "Python 3",
   "language": "python",
   "name": "python3"
  },
  "language_info": {
   "codemirror_mode": {
    "name": "ipython",
    "version": 3
   },
   "file_extension": ".py",
   "mimetype": "text/x-python",
   "name": "python",
   "nbconvert_exporter": "python",
   "pygments_lexer": "ipython3",
   "version": "3.10.0"
  }
 },
 "nbformat": 4,
 "nbformat_minor": 2
}
